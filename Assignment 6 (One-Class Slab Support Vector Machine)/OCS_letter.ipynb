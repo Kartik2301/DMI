{
  "nbformat": 4,
  "nbformat_minor": 0,
  "metadata": {
    "colab": {
      "name": "OCS_letter.ipynb",
      "provenance": []
    },
    "kernelspec": {
      "name": "python3",
      "display_name": "Python 3"
    },
    "language_info": {
      "name": "python"
    }
  },
  "cells": [
    {
      "cell_type": "code",
      "metadata": {
        "id": "ZOcG5lEsacr6"
      },
      "source": [
        "import pandas as pd\n",
        "data = pd.read_csv(\"/content/recognition.data\")\n"
      ],
      "execution_count": 1,
      "outputs": []
    },
    {
      "cell_type": "code",
      "metadata": {
        "id": "smUpJ1zyfKW6"
      },
      "source": [
        "train_data = data.sample(frac=0.7)\n",
        "test_data = data.drop(train_data.index)"
      ],
      "execution_count": 2,
      "outputs": []
    },
    {
      "cell_type": "code",
      "metadata": {
        "id": "ryjg7WTOfRW3"
      },
      "source": [
        "def labl_datas(label):\n",
        "  labels = np.array(train_data['Label'].unique())\n",
        "  dfm = []\n",
        "  for l in labels:\n",
        "    if(l==label):\n",
        "      dfm.append(train_data[train_data['Label']==l])\n",
        "    else:\n",
        "      dfm.append(train_data[train_data['Label']==l].sample(frac=0.04))\n",
        "  return pd.concat(dfm)\n",
        "\n",
        "def label2_datas(label):\n",
        "  return train_data"
      ],
      "execution_count": 3,
      "outputs": []
    },
    {
      "cell_type": "code",
      "metadata": {
        "id": "RCjCOXJhfVKQ"
      },
      "source": [
        "from sklearn.svm import OneClassSVM\n",
        "import numpy as np\n",
        "OCSVM_for_label = {}\n",
        "int_to_alpha = {}\n",
        "for i,l in enumerate(np.array(train_data['Label'].unique())):\n",
        "  int_to_alpha[i]=l\n",
        "  data_label = labl_datas(l)\n",
        "  # data_label['Label'].replace()\n",
        "  data2_label = label2_datas(l)\n",
        "  # data2_label['Label'].hist()\n",
        "  # data_label['Label'].hist()\n",
        "  # break\n",
        "  # print(data2_label)\n",
        "  clf = OneClassSVM(gamma='auto').fit(data_label.drop('Label',axis=1))\n",
        "  clf2 = OneClassSVM(gamma='auto').fit(data2_label.drop('Label',axis=1))\n",
        "  OCSVM_for_label[l]=(clf,clf2)"
      ],
      "execution_count": 4,
      "outputs": []
    },
    {
      "cell_type": "code",
      "metadata": {
        "id": "RpHy3Daphcat"
      },
      "source": [
        "predictions = []\n",
        "for let in OCSVM_for_label:\n",
        "  predictions.append(-(OCSVM_for_label[let][0].decision_function(test_data.drop('Label',axis=1)))*(OCSVM_for_label[let][1].decision_function(test_data.drop('Label',axis=1))))"
      ],
      "execution_count": 5,
      "outputs": []
    },
    {
      "cell_type": "code",
      "metadata": {
        "id": "hm9byAZGiO3i"
      },
      "source": [
        "predictions = np.array(predictions).T"
      ],
      "execution_count": 6,
      "outputs": []
    },
    {
      "cell_type": "code",
      "metadata": {
        "id": "1Y59AHheiS2J"
      },
      "source": [
        "answer = []\n",
        "for i,pred in enumerate(predictions):\n",
        "  answer.append(int_to_alpha[pred.argmax()])"
      ],
      "execution_count": 7,
      "outputs": []
    },
    {
      "cell_type": "code",
      "metadata": {
        "colab": {
          "base_uri": "https://localhost:8080/"
        },
        "id": "8OKR2Yl7iXJ0",
        "outputId": "cc59b377-ef64-48f6-bed1-ca77bdcaf383"
      },
      "source": [
        "from sklearn.metrics import classification_report\n",
        "print(classification_report(test_data['Label'], answer))"
      ],
      "execution_count": 8,
      "outputs": [
        {
          "output_type": "stream",
          "text": [
            "              precision    recall  f1-score   support\n",
            "\n",
            "           A       0.66      0.62      0.64       242\n",
            "           B       0.15      0.19      0.17       234\n",
            "           C       0.81      0.54      0.65       228\n",
            "           D       0.22      0.31      0.26       242\n",
            "           E       0.41      0.32      0.36       231\n",
            "           F       0.73      0.40      0.52       241\n",
            "           G       0.29      0.20      0.24       217\n",
            "           H       0.75      0.29      0.41       220\n",
            "           I       0.25      0.42      0.31       219\n",
            "           J       0.86      0.78      0.82       214\n",
            "           K       0.64      0.47      0.55       217\n",
            "           L       0.75      0.72      0.73       205\n",
            "           M       0.64      0.80      0.71       240\n",
            "           N       0.63      0.53      0.58       234\n",
            "           O       0.06      0.14      0.09       228\n",
            "           P       0.77      0.60      0.67       258\n",
            "           Q       0.60      0.43      0.50       237\n",
            "           R       0.17      0.28      0.21       226\n",
            "           S       0.68      0.48      0.56       224\n",
            "           T       0.58      0.51      0.54       250\n",
            "           U       0.40      0.48      0.43       232\n",
            "           V       0.42      0.44      0.43       232\n",
            "           W       0.63      0.65      0.64       213\n",
            "           X       0.36      0.23      0.28       259\n",
            "           Y       0.76      0.69      0.72       235\n",
            "           Z       0.43      0.55      0.48       222\n",
            "\n",
            "    accuracy                           0.46      6000\n",
            "   macro avg       0.52      0.46      0.48      6000\n",
            "weighted avg       0.52      0.46      0.48      6000\n",
            "\n"
          ],
          "name": "stdout"
        }
      ]
    },
    {
      "cell_type": "code",
      "metadata": {
        "id": "xiMQix2Uiev9"
      },
      "source": [
        "def labl_datas(label):\n",
        "  labels = np.array(train_data['Label'].unique())\n",
        "  dfm = []\n",
        "  for l in labels:\n",
        "    if(l==label):\n",
        "      dfm.append(train_data[train_data['Label']==l])\n",
        "    else:\n",
        "      dfm.append(train_data[train_data['Label']==l].sample(frac=0.04))\n",
        "  return pd.concat(dfm)\n",
        "\n",
        "def label2_datas(label):\n",
        "  return train_data"
      ],
      "execution_count": 9,
      "outputs": []
    },
    {
      "cell_type": "code",
      "metadata": {
        "id": "qQPJXJGeigmY"
      },
      "source": [
        "from sklearn.svm import OneClassSVM\n",
        "import numpy as np\n",
        "OCSVM_for_label = {}\n",
        "int_to_alpha = {}\n",
        "for i,l in enumerate(np.array(train_data['Label'].unique())):\n",
        "  int_to_alpha[i]=l\n",
        "  data_label = labl_datas(l)\n",
        "  # data_label['Label'].replace()\n",
        "  data2_label = label2_datas(l)\n",
        "  # data2_label['Label'].hist()\n",
        "  # data_label['Label'].hist()\n",
        "  # break\n",
        "  # print(data2_label)\n",
        "  clf = OneClassSVM(gamma='auto').fit(data_label.drop('Label',axis=1))\n",
        "  clf2 = OneClassSVM(gamma='auto').fit(data2_label.drop('Label',axis=1))\n",
        "  OCSVM_for_label[l]=(clf,clf2)"
      ],
      "execution_count": 10,
      "outputs": []
    },
    {
      "cell_type": "code",
      "metadata": {
        "id": "TnK7gJldj0ub"
      },
      "source": [
        "predictions = []\n",
        "for let in OCSVM_for_label:\n",
        "  predictions.append(-(OCSVM_for_label[let][0].decision_function(test_data.drop('Label',axis=1)))*(OCSVM_for_label[let][1].decision_function(test_data.drop('Label',axis=1))))"
      ],
      "execution_count": 11,
      "outputs": []
    },
    {
      "cell_type": "code",
      "metadata": {
        "id": "70PHYVNTk8xz"
      },
      "source": [
        "predictions = np.array(predictions).T"
      ],
      "execution_count": 12,
      "outputs": []
    },
    {
      "cell_type": "code",
      "metadata": {
        "id": "8aToEnU0lDw2"
      },
      "source": [
        "answer = []\n",
        "for i,pred in enumerate(predictions):\n",
        "  answer.append(int_to_alpha[pred.argmax()])"
      ],
      "execution_count": 13,
      "outputs": []
    },
    {
      "cell_type": "code",
      "metadata": {
        "colab": {
          "base_uri": "https://localhost:8080/"
        },
        "id": "AE8vLZaElJih",
        "outputId": "5feeb15e-cfc0-40df-a46c-ee94a7000afb"
      },
      "source": [
        "from sklearn.metrics import classification_report\n",
        "print(classification_report(test_data['Label'], answer))"
      ],
      "execution_count": 14,
      "outputs": [
        {
          "output_type": "stream",
          "text": [
            "              precision    recall  f1-score   support\n",
            "\n",
            "           A       0.71      0.61      0.66       242\n",
            "           B       0.10      0.18      0.13       234\n",
            "           C       0.83      0.55      0.66       228\n",
            "           D       0.19      0.31      0.23       242\n",
            "           E       0.28      0.32      0.30       231\n",
            "           F       0.60      0.38      0.46       241\n",
            "           G       0.15      0.20      0.17       217\n",
            "           H       0.54      0.30      0.38       220\n",
            "           I       0.40      0.42      0.41       219\n",
            "           J       0.81      0.78      0.79       214\n",
            "           K       0.71      0.48      0.58       217\n",
            "           L       0.78      0.71      0.74       205\n",
            "           M       0.70      0.80      0.75       240\n",
            "           N       0.71      0.51      0.60       234\n",
            "           O       0.08      0.15      0.11       228\n",
            "           P       0.86      0.63      0.73       258\n",
            "           Q       0.80      0.43      0.56       237\n",
            "           R       0.23      0.28      0.25       226\n",
            "           S       0.84      0.48      0.61       224\n",
            "           T       0.54      0.52      0.53       250\n",
            "           U       0.39      0.46      0.42       232\n",
            "           V       0.54      0.45      0.49       232\n",
            "           W       0.62      0.65      0.63       213\n",
            "           X       0.16      0.21      0.18       259\n",
            "           Y       0.81      0.68      0.74       235\n",
            "           Z       0.79      0.51      0.62       222\n",
            "\n",
            "    accuracy                           0.46      6000\n",
            "   macro avg       0.54      0.46      0.49      6000\n",
            "weighted avg       0.54      0.46      0.49      6000\n",
            "\n"
          ],
          "name": "stdout"
        }
      ]
    }
  ]
}