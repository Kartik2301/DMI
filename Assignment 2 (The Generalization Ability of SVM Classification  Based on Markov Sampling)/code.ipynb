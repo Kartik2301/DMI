{
  "nbformat": 4,
  "nbformat_minor": 0,
  "metadata": {
    "colab": {
      "name": "Paper_3.ipynb",
      "provenance": [],
      "collapsed_sections": []
    },
    "kernelspec": {
      "name": "python3",
      "display_name": "Python 3"
    }
  },
  "cells": [
    {
      "cell_type": "code",
      "metadata": {
        "id": "5CnjPVxbc_YW"
      },
      "source": [
        "import pandas as pd\n",
        "import numpy as np\n",
        "from sklearn.svm import SVC"
      ],
      "execution_count": 21,
      "outputs": []
    },
    {
      "cell_type": "code",
      "metadata": {
        "id": "eLf26jjws7Tm"
      },
      "source": [
        "letters = pd.read_csv('/content/sample_data/letter-recognition.csv')\n",
        "X = letters.drop(\"letter\", axis = 1)\n",
        "y = letters['letter']\n",
        "from sklearn.preprocessing import scale\n",
        "X_scaled = scale(X)"
      ],
      "execution_count": 22,
      "outputs": []
    },
    {
      "cell_type": "code",
      "metadata": {
        "id": "CTVHAXOZ8sog"
      },
      "source": [
        "from sklearn.model_selection import train_test_split\n",
        "from sklearn import metrics\n",
        "X_train, X_test, y_train, y_test = train_test_split(X_scaled, y, test_size = 0.3, random_state = 43)\n",
        "ml = SVC(kernel='linear')\n",
        "acc=0\n",
        "k=2\n",
        "for i in range(k):\n",
        "    ml.fit(X_train, y_train)    \n",
        "    y_pred = ml.predict(X_test)\n",
        "    acc=max(metrics.accuracy_score(y_test, y_pred),acc)"
      ],
      "execution_count": 23,
      "outputs": []
    },
    {
      "cell_type": "code",
      "metadata": {
        "colab": {
          "base_uri": "https://localhost:8080/"
        },
        "id": "g6MIj09F9fpc",
        "outputId": "912dfb2d-23ec-4b93-f3b6-f0c48a85a7cb"
      },
      "source": [
        "print(\"Accuracy with linear kernel:\", acc)"
      ],
      "execution_count": 24,
      "outputs": [
        {
          "output_type": "stream",
          "text": [
            "Accuracy with linear kernel: 0.8511666666666666\n"
          ],
          "name": "stdout"
        }
      ]
    },
    {
      "cell_type": "code",
      "metadata": {
        "id": "opSxg_ZK9kkk"
      },
      "source": [
        "nlm = SVC(kernel='rbf')\n",
        "acc=0\n",
        "for i in range(k):\n",
        "    nlm.fit(X_train, y_train)    \n",
        "    y_pred = nlm.predict(X_test)\n",
        "    acc=max(metrics.accuracy_score(y_test, y_pred),acc)"
      ],
      "execution_count": 25,
      "outputs": []
    },
    {
      "cell_type": "code",
      "metadata": {
        "colab": {
          "base_uri": "https://localhost:8080/"
        },
        "id": "toZKly939uN3",
        "outputId": "4446cd02-2902-4210-d6ad-622401e8f934"
      },
      "source": [
        "print(\"Accuracy with RBF kernel:\", acc)"
      ],
      "execution_count": 26,
      "outputs": [
        {
          "output_type": "stream",
          "text": [
            "Accuracy with RBF kernel: 0.9411666666666667\n"
          ],
          "name": "stdout"
        }
      ]
    },
    {
      "cell_type": "code",
      "metadata": {
        "id": "4qqGcvd4-e50"
      },
      "source": [
        "nlm = SVC(kernel='poly',degree=2)\n",
        "acc=0\n",
        "for i in range(k):\n",
        "    nlm.fit(X_train, y_train)    \n",
        "    y_pred = nlm.predict(X_test)\n",
        "    acc=max(metrics.accuracy_score(y_test, y_pred),acc)"
      ],
      "execution_count": 27,
      "outputs": []
    },
    {
      "cell_type": "code",
      "metadata": {
        "colab": {
          "base_uri": "https://localhost:8080/"
        },
        "id": "PwKXwsw8-lpB",
        "outputId": "f57a55fa-053b-419e-8583-61cbb8d72a30"
      },
      "source": [
        "print(\"Accuracy with polnomial of degree 2 kernel:\", acc)"
      ],
      "execution_count": 28,
      "outputs": [
        {
          "output_type": "stream",
          "text": [
            "Accuracy with polnomial of degree 2 kernel: 0.886\n"
          ],
          "name": "stdout"
        }
      ]
    }
  ]
}