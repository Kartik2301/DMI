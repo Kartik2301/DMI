{
  "nbformat": 4,
  "nbformat_minor": 0,
  "metadata": {
    "colab": {
      "name": "Paper_3M_Original.ipynb",
      "provenance": [],
      "collapsed_sections": []
    },
    "kernelspec": {
      "display_name": "Python 3",
      "name": "python3"
    }
  },
  "cells": [
    {
      "cell_type": "code",
      "metadata": {
        "id": "95baY23syvYB",
        "colab": {
          "base_uri": "https://localhost:8080/"
        },
        "outputId": "0e7880d6-c650-43ba-d72f-96d6d60ac0db"
      },
      "source": [
        "import numpy as np\n",
        "import pandas as pd\n",
        "import statsmodels.api as sm\n",
        "from sklearn.preprocessing import MinMaxScaler\n",
        "from sklearn.model_selection import train_test_split as tts\n",
        "from sklearn.metrics import accuracy_score, recall_score, precision_score\n",
        "from sklearn.utils import shuffle"
      ],
      "execution_count": 1,
      "outputs": [
        {
          "output_type": "stream",
          "text": [
            "/usr/local/lib/python3.7/dist-packages/statsmodels/tools/_testing.py:19: FutureWarning: pandas.util.testing is deprecated. Use the functions in the public API at pandas.testing instead.\n",
            "  import pandas.util.testing as tm\n"
          ],
          "name": "stderr"
        }
      ]
    },
    {
      "cell_type": "code",
      "metadata": {
        "colab": {
          "base_uri": "https://localhost:8080/",
          "height": 424
        },
        "id": "GYNgejckeCxk",
        "outputId": "e4b0fdff-e71d-4f6e-812d-f0138bcee0d8"
      },
      "source": [
        "df=pd.read_csv('/content/sample_data/letter-recognition.csv')\n",
        "diag_map = {'A': 1.0, 'B': -1.0,'C': 1.0, 'D': -1.0,'E': 1.0, 'F': -1.0,'G': 1.0, 'H': -1.0,'I': 1.0, 'J': -1.0,'K': 1.0, 'L': -1.0,'M': 1.0, 'N': -1.0\n",
        "            ,'O': 1.0, 'P': -1.0,'Q': 1.0, 'R': -1.0,'S': 1.0, 'T': -1.0,'U': 1.0, 'V': -1.0,'W': 1.0, 'X': -1.0,\n",
        "            'Y': 1.0, 'Z': -1.0}\n",
        "df['letter'] = df['letter'].map(diag_map)\n",
        "df=df.sample(frac=1)\n",
        "df\n"
      ],
      "execution_count": 2,
      "outputs": [
        {
          "output_type": "execute_result",
          "data": {
            "text/html": [
              "<div>\n",
              "<style scoped>\n",
              "    .dataframe tbody tr th:only-of-type {\n",
              "        vertical-align: middle;\n",
              "    }\n",
              "\n",
              "    .dataframe tbody tr th {\n",
              "        vertical-align: top;\n",
              "    }\n",
              "\n",
              "    .dataframe thead th {\n",
              "        text-align: right;\n",
              "    }\n",
              "</style>\n",
              "<table border=\"1\" class=\"dataframe\">\n",
              "  <thead>\n",
              "    <tr style=\"text-align: right;\">\n",
              "      <th></th>\n",
              "      <th>letter</th>\n",
              "      <th>xbox</th>\n",
              "      <th>ybox</th>\n",
              "      <th>width</th>\n",
              "      <th>height</th>\n",
              "      <th>onpix</th>\n",
              "      <th>xbar</th>\n",
              "      <th>ybar</th>\n",
              "      <th>x2bar</th>\n",
              "      <th>y2bar</th>\n",
              "      <th>xybar</th>\n",
              "      <th>x2ybar</th>\n",
              "      <th>xy2bar</th>\n",
              "      <th>xedge</th>\n",
              "      <th>xedgey</th>\n",
              "      <th>yedge</th>\n",
              "      <th>yedgex</th>\n",
              "    </tr>\n",
              "  </thead>\n",
              "  <tbody>\n",
              "    <tr>\n",
              "      <th>6264</th>\n",
              "      <td>-1.0</td>\n",
              "      <td>2</td>\n",
              "      <td>10</td>\n",
              "      <td>3</td>\n",
              "      <td>8</td>\n",
              "      <td>1</td>\n",
              "      <td>13</td>\n",
              "      <td>2</td>\n",
              "      <td>9</td>\n",
              "      <td>4</td>\n",
              "      <td>14</td>\n",
              "      <td>4</td>\n",
              "      <td>12</td>\n",
              "      <td>1</td>\n",
              "      <td>6</td>\n",
              "      <td>0</td>\n",
              "      <td>8</td>\n",
              "    </tr>\n",
              "    <tr>\n",
              "      <th>2387</th>\n",
              "      <td>-1.0</td>\n",
              "      <td>8</td>\n",
              "      <td>12</td>\n",
              "      <td>6</td>\n",
              "      <td>6</td>\n",
              "      <td>4</td>\n",
              "      <td>9</td>\n",
              "      <td>5</td>\n",
              "      <td>4</td>\n",
              "      <td>5</td>\n",
              "      <td>10</td>\n",
              "      <td>5</td>\n",
              "      <td>9</td>\n",
              "      <td>5</td>\n",
              "      <td>7</td>\n",
              "      <td>7</td>\n",
              "      <td>10</td>\n",
              "    </tr>\n",
              "    <tr>\n",
              "      <th>4718</th>\n",
              "      <td>-1.0</td>\n",
              "      <td>3</td>\n",
              "      <td>5</td>\n",
              "      <td>5</td>\n",
              "      <td>6</td>\n",
              "      <td>4</td>\n",
              "      <td>11</td>\n",
              "      <td>5</td>\n",
              "      <td>3</td>\n",
              "      <td>2</td>\n",
              "      <td>8</td>\n",
              "      <td>4</td>\n",
              "      <td>9</td>\n",
              "      <td>4</td>\n",
              "      <td>8</td>\n",
              "      <td>5</td>\n",
              "      <td>11</td>\n",
              "    </tr>\n",
              "    <tr>\n",
              "      <th>13717</th>\n",
              "      <td>1.0</td>\n",
              "      <td>5</td>\n",
              "      <td>7</td>\n",
              "      <td>7</td>\n",
              "      <td>6</td>\n",
              "      <td>9</td>\n",
              "      <td>7</td>\n",
              "      <td>6</td>\n",
              "      <td>4</td>\n",
              "      <td>5</td>\n",
              "      <td>7</td>\n",
              "      <td>5</td>\n",
              "      <td>8</td>\n",
              "      <td>9</td>\n",
              "      <td>9</td>\n",
              "      <td>7</td>\n",
              "      <td>8</td>\n",
              "    </tr>\n",
              "    <tr>\n",
              "      <th>19358</th>\n",
              "      <td>-1.0</td>\n",
              "      <td>6</td>\n",
              "      <td>9</td>\n",
              "      <td>8</td>\n",
              "      <td>7</td>\n",
              "      <td>4</td>\n",
              "      <td>3</td>\n",
              "      <td>13</td>\n",
              "      <td>4</td>\n",
              "      <td>5</td>\n",
              "      <td>13</td>\n",
              "      <td>9</td>\n",
              "      <td>4</td>\n",
              "      <td>1</td>\n",
              "      <td>10</td>\n",
              "      <td>2</td>\n",
              "      <td>6</td>\n",
              "    </tr>\n",
              "    <tr>\n",
              "      <th>...</th>\n",
              "      <td>...</td>\n",
              "      <td>...</td>\n",
              "      <td>...</td>\n",
              "      <td>...</td>\n",
              "      <td>...</td>\n",
              "      <td>...</td>\n",
              "      <td>...</td>\n",
              "      <td>...</td>\n",
              "      <td>...</td>\n",
              "      <td>...</td>\n",
              "      <td>...</td>\n",
              "      <td>...</td>\n",
              "      <td>...</td>\n",
              "      <td>...</td>\n",
              "      <td>...</td>\n",
              "      <td>...</td>\n",
              "      <td>...</td>\n",
              "    </tr>\n",
              "    <tr>\n",
              "      <th>7106</th>\n",
              "      <td>-1.0</td>\n",
              "      <td>4</td>\n",
              "      <td>8</td>\n",
              "      <td>6</td>\n",
              "      <td>6</td>\n",
              "      <td>4</td>\n",
              "      <td>8</td>\n",
              "      <td>7</td>\n",
              "      <td>5</td>\n",
              "      <td>7</td>\n",
              "      <td>11</td>\n",
              "      <td>5</td>\n",
              "      <td>5</td>\n",
              "      <td>3</td>\n",
              "      <td>8</td>\n",
              "      <td>3</td>\n",
              "      <td>8</td>\n",
              "    </tr>\n",
              "    <tr>\n",
              "      <th>15628</th>\n",
              "      <td>-1.0</td>\n",
              "      <td>4</td>\n",
              "      <td>10</td>\n",
              "      <td>5</td>\n",
              "      <td>8</td>\n",
              "      <td>4</td>\n",
              "      <td>6</td>\n",
              "      <td>4</td>\n",
              "      <td>1</td>\n",
              "      <td>7</td>\n",
              "      <td>8</td>\n",
              "      <td>2</td>\n",
              "      <td>10</td>\n",
              "      <td>0</td>\n",
              "      <td>6</td>\n",
              "      <td>3</td>\n",
              "      <td>8</td>\n",
              "    </tr>\n",
              "    <tr>\n",
              "      <th>2024</th>\n",
              "      <td>1.0</td>\n",
              "      <td>7</td>\n",
              "      <td>11</td>\n",
              "      <td>8</td>\n",
              "      <td>8</td>\n",
              "      <td>5</td>\n",
              "      <td>6</td>\n",
              "      <td>6</td>\n",
              "      <td>7</td>\n",
              "      <td>8</td>\n",
              "      <td>10</td>\n",
              "      <td>7</td>\n",
              "      <td>11</td>\n",
              "      <td>2</td>\n",
              "      <td>10</td>\n",
              "      <td>5</td>\n",
              "      <td>9</td>\n",
              "    </tr>\n",
              "    <tr>\n",
              "      <th>10555</th>\n",
              "      <td>1.0</td>\n",
              "      <td>2</td>\n",
              "      <td>1</td>\n",
              "      <td>2</td>\n",
              "      <td>1</td>\n",
              "      <td>0</td>\n",
              "      <td>8</td>\n",
              "      <td>6</td>\n",
              "      <td>11</td>\n",
              "      <td>4</td>\n",
              "      <td>7</td>\n",
              "      <td>12</td>\n",
              "      <td>8</td>\n",
              "      <td>3</td>\n",
              "      <td>10</td>\n",
              "      <td>0</td>\n",
              "      <td>8</td>\n",
              "    </tr>\n",
              "    <tr>\n",
              "      <th>13639</th>\n",
              "      <td>-1.0</td>\n",
              "      <td>4</td>\n",
              "      <td>9</td>\n",
              "      <td>6</td>\n",
              "      <td>7</td>\n",
              "      <td>4</td>\n",
              "      <td>7</td>\n",
              "      <td>8</td>\n",
              "      <td>6</td>\n",
              "      <td>5</td>\n",
              "      <td>7</td>\n",
              "      <td>6</td>\n",
              "      <td>6</td>\n",
              "      <td>6</td>\n",
              "      <td>9</td>\n",
              "      <td>2</td>\n",
              "      <td>5</td>\n",
              "    </tr>\n",
              "  </tbody>\n",
              "</table>\n",
              "<p>20000 rows × 17 columns</p>\n",
              "</div>"
            ],
            "text/plain": [
              "       letter  xbox   ybox   width   ...  xedge   xedgey  yedge   yedgex\n",
              "6264     -1.0      2     10       3  ...       1       6       0       8\n",
              "2387     -1.0      8     12       6  ...       5       7       7      10\n",
              "4718     -1.0      3      5       5  ...       4       8       5      11\n",
              "13717     1.0      5      7       7  ...       9       9       7       8\n",
              "19358    -1.0      6      9       8  ...       1      10       2       6\n",
              "...       ...    ...    ...     ...  ...     ...     ...     ...     ...\n",
              "7106     -1.0      4      8       6  ...       3       8       3       8\n",
              "15628    -1.0      4     10       5  ...       0       6       3       8\n",
              "2024      1.0      7     11       8  ...       2      10       5       9\n",
              "10555     1.0      2      1       2  ...       3      10       0       8\n",
              "13639    -1.0      4      9       6  ...       6       9       2       5\n",
              "\n",
              "[20000 rows x 17 columns]"
            ]
          },
          "metadata": {
            "tags": []
          },
          "execution_count": 2
        }
      ]
    },
    {
      "cell_type": "code",
      "metadata": {
        "colab": {
          "base_uri": "https://localhost:8080/"
        },
        "id": "pT4w_9bZfucZ",
        "outputId": "29eb3d7a-c659-4703-c7cd-926ce8244372"
      },
      "source": [
        "m=5000\n",
        "X=df.drop('letter',axis=1)\n",
        "y=df['letter']\n",
        "print(X.head())"
      ],
      "execution_count": null,
      "outputs": [
        {
          "output_type": "stream",
          "text": [
            "       xbox   ybox   width   height  ...  xedge   xedgey  yedge   yedgex\n",
            "19770      1      0       1       0  ...       2       8       0       8\n",
            "13344      6      9       7       8  ...       3       9       8       7\n",
            "6843       5      5       6       3  ...       7      11       1       7\n",
            "5187       3      5       4       7  ...       0       8       0       8\n",
            "13701      6     12       5       7  ...       4       9       5      13\n",
            "\n",
            "[5 rows x 16 columns]\n"
          ],
          "name": "stdout"
        }
      ]
    },
    {
      "cell_type": "code",
      "metadata": {
        "id": "6qMvKnPECa7G"
      },
      "source": [
        "X_train=X[:m]\n",
        "y_train=y[:m]\n",
        "X_test=X[m:m+2000]\n",
        "y_test=y[m:m+2000]"
      ],
      "execution_count": null,
      "outputs": []
    },
    {
      "cell_type": "code",
      "metadata": {
        "colab": {
          "base_uri": "https://localhost:8080/"
        },
        "id": "ycKlxX69HKqG",
        "outputId": "330e941b-936a-43ca-d0e6-19c6764b663e"
      },
      "source": [
        "from sklearn import svm\n",
        "clf = svm.SVC(kernel='linear')\n",
        "clf.fit(X_train, y_train)"
      ],
      "execution_count": null,
      "outputs": [
        {
          "output_type": "execute_result",
          "data": {
            "text/plain": [
              "SVC(C=1.0, break_ties=False, cache_size=200, class_weight=None, coef0=0.0,\n",
              "    decision_function_shape='ovr', degree=3, gamma='scale', kernel='linear',\n",
              "    max_iter=-1, probability=False, random_state=None, shrinking=True,\n",
              "    tol=0.001, verbose=False)"
            ]
          },
          "metadata": {
            "tags": []
          },
          "execution_count": 130
        }
      ]
    },
    {
      "cell_type": "code",
      "metadata": {
        "id": "V2WvysecHaXg"
      },
      "source": [
        "y_pred=clf.predict(X_test)"
      ],
      "execution_count": null,
      "outputs": []
    },
    {
      "cell_type": "markdown",
      "metadata": {
        "id": "__OAphcZH3kv"
      },
      "source": [
        "**RESULTS SVM WITHOUT MARKOV SAMPLING**"
      ]
    },
    {
      "cell_type": "code",
      "metadata": {
        "colab": {
          "base_uri": "https://localhost:8080/"
        },
        "id": "2g8Xjvb8HUdD",
        "outputId": "afe83fc1-de42-4471-837b-c6fddebbdeb7"
      },
      "source": [
        "print(\"accuracy on test dataset: {}\".format(accuracy_score(y_test, y_pred)))\n",
        "print(\"recall on test dataset: {}\".format(recall_score(y_test, y_pred)))\n",
        "print(\"precision on test dataset: {}\".format(recall_score(y_test, y_pred)))"
      ],
      "execution_count": null,
      "outputs": [
        {
          "output_type": "stream",
          "text": [
            "accuracy on test dataset: 0.7245\n",
            "recall on test dataset: 0.7591463414634146\n",
            "precision on test dataset: 0.7591463414634146\n"
          ],
          "name": "stdout"
        }
      ]
    },
    {
      "cell_type": "code",
      "metadata": {
        "colab": {
          "base_uri": "https://localhost:8080/"
        },
        "id": "q9D6_m7H1eVp",
        "outputId": "a95b7274-a50e-4713-8911-c65ab656dc1a"
      },
      "source": [
        "N1=1000\n",
        "X_val=X[:N1]\n",
        "y_val=y[:N1]\n",
        "print(y_val.shape)"
      ],
      "execution_count": null,
      "outputs": [
        {
          "output_type": "stream",
          "text": [
            "(1000,)\n"
          ],
          "name": "stdout"
        }
      ]
    },
    {
      "cell_type": "code",
      "metadata": {
        "colab": {
          "base_uri": "https://localhost:8080/"
        },
        "id": "keuMDpsrfoFm",
        "outputId": "24cec96c-f62d-41e5-b494-5de17748068a"
      },
      "source": [
        "from sklearn import svm\n",
        "clf = svm.SVC(kernel='linear')\n",
        "clf.fit(X_val, y_val)"
      ],
      "execution_count": null,
      "outputs": [
        {
          "output_type": "execute_result",
          "data": {
            "text/plain": [
              "SVC(C=1.0, break_ties=False, cache_size=200, class_weight=None, coef0=0.0,\n",
              "    decision_function_shape='ovr', degree=3, gamma='scale', kernel='linear',\n",
              "    max_iter=-1, probability=False, random_state=None, shrinking=True,\n",
              "    tol=0.001, verbose=False)"
            ]
          },
          "metadata": {
            "tags": []
          },
          "execution_count": 134
        }
      ]
    },
    {
      "cell_type": "code",
      "metadata": {
        "colab": {
          "base_uri": "https://localhost:8080/"
        },
        "id": "Od8VL4kigVg-",
        "outputId": "113dd77f-5065-466d-9b4e-d33b818fc111"
      },
      "source": [
        "y_pre=clf.predict(X_test)\n",
        "print(y_pre)"
      ],
      "execution_count": null,
      "outputs": [
        {
          "output_type": "stream",
          "text": [
            "[ 1. -1.  1. ... -1.  1.  1.]\n"
          ],
          "name": "stdout"
        }
      ]
    },
    {
      "cell_type": "code",
      "metadata": {
        "id": "npAcBLvo-iXj"
      },
      "source": [
        "def Cost(Y_pred, Y):\n",
        "    # calculate hinge loss\n",
        "    if Y_pred*Y>1.0:\n",
        "        return 0\n",
        "    return 1.0-Y_pred*Y"
      ],
      "execution_count": null,
      "outputs": []
    },
    {
      "cell_type": "code",
      "metadata": {
        "id": "deTUUYVxfAp5"
      },
      "source": [
        "X=X.to_numpy()\n",
        "y=y.to_numpy()"
      ],
      "execution_count": null,
      "outputs": []
    },
    {
      "cell_type": "code",
      "metadata": {
        "colab": {
          "base_uri": "https://localhost:8080/"
        },
        "id": "FGYWHWiCge8P",
        "outputId": "b0c9ef45-cd22-4f3d-8cda-47fff0881e60"
      },
      "source": [
        "k=5\n",
        "q=1/1.2\n",
        "print(q)\n",
        "print(m)"
      ],
      "execution_count": null,
      "outputs": [
        {
          "output_type": "stream",
          "text": [
            "0.8333333333333334\n",
            "5000\n"
          ],
          "name": "stdout"
        }
      ]
    },
    {
      "cell_type": "code",
      "metadata": {
        "id": "JPGxt0x_gvMO"
      },
      "source": [
        "import math\n",
        "mp=mn=0\n",
        "ct=0\n",
        "X_tr=[]\n",
        "y_tr=[]\n",
        "X_t=X[0].reshape(1,-1)\n",
        "y_t=y[0]\n",
        "y_pred_t=clf.predict(X_t)\n",
        "if m%2==0 and y_t==1.0:\n",
        "    mp+=1\n",
        "elif m%2==0 and y_t==-1.0:\n",
        "    mn+=1\n",
        "for i in range(1,m):\n",
        "    X_z=X[i].reshape(1,-1)\n",
        "    y_z=y[i]\n",
        "    y_pred_z=clf.predict(X_z)\n",
        "    P=math.exp(-Cost(y_pred_z,y_z))/math.exp(-Cost(y_pred_t,y_t))\n",
        "    if ct>=k:\n",
        "        Pdd=q*P\n",
        "        if(Pdd>0.5):\n",
        "            X_tr.append(X_z[0])\n",
        "            y_tr.append(y_z)\n",
        "            ct+=1\n",
        "        else:\n",
        "            ct=0\n",
        "    elif P==1.0 and y_z==y_t:\n",
        "        Pd=math.exp(y_z*y_pred_z)/math.exp(y_t*y_pred_t)\n",
        "        if Pd>0.5:\n",
        "            X_tr.append(X_z[0])\n",
        "            y_tr.append(y_z)\n",
        "            ct+=1\n",
        "        else:\n",
        "            ct=0\n",
        "    elif P<1.0 or P==1.0 and y_z*y_t==-1.0:\n",
        "        if P>0.5:\n",
        "            X_tr.append(X_z[0])\n",
        "            y_tr.append(y_z)\n",
        "            ct+=1\n",
        "        else:\n",
        "            ct=0\n",
        "    elif P>1.0:\n",
        "        X_tr.append(X_z[0])\n",
        "        y_tr.append(y_z)\n",
        "        ct+=1\n",
        "    if y_t==1.0:\n",
        "        mp+=1\n",
        "    else:\n",
        "        mn+=1\n",
        "    y_t=y_z\n",
        "    X_t=X_z\n",
        "    y_pred_t=y_pred_z\n",
        "    if mp<m/2 or mn<m/2:\n",
        "        continue\n",
        "    else:\n",
        "        break"
      ],
      "execution_count": null,
      "outputs": []
    },
    {
      "cell_type": "code",
      "metadata": {
        "colab": {
          "base_uri": "https://localhost:8080/"
        },
        "id": "kNLZ5SwoeU19",
        "outputId": "97a375e6-fb7b-4f47-9536-53b8c9defab0"
      },
      "source": [
        "print(mp,mn)"
      ],
      "execution_count": null,
      "outputs": [
        {
          "output_type": "stream",
          "text": [
            "2536 2464\n"
          ],
          "name": "stdout"
        }
      ]
    },
    {
      "cell_type": "code",
      "metadata": {
        "id": "uX36HeQDnfy7",
        "colab": {
          "base_uri": "https://localhost:8080/"
        },
        "outputId": "227711e4-889a-4afd-d75b-ead89bd4e18b"
      },
      "source": [
        "print(len(X_tr))\n",
        "X_tr=np.array(X_tr)\n",
        "y_tr=np.array(y_tr)"
      ],
      "execution_count": null,
      "outputs": [
        {
          "output_type": "stream",
          "text": [
            "4014\n"
          ],
          "name": "stdout"
        }
      ]
    },
    {
      "cell_type": "code",
      "metadata": {
        "colab": {
          "base_uri": "https://localhost:8080/"
        },
        "id": "BVon038X00bl",
        "outputId": "5abbc391-a90f-4551-c97a-a9b0784f7695"
      },
      "source": [
        "print(X_tr.shape,y_tr.shape[0])"
      ],
      "execution_count": null,
      "outputs": [
        {
          "output_type": "stream",
          "text": [
            "(4014, 16) 4014\n"
          ],
          "name": "stdout"
        }
      ]
    },
    {
      "cell_type": "code",
      "metadata": {
        "colab": {
          "base_uri": "https://localhost:8080/"
        },
        "id": "HWBP-lKIoyQF",
        "outputId": "9de85e5c-0ce7-4169-c4e4-ab236b834ec2"
      },
      "source": [
        "clf = svm.SVC(kernel='linear')\n",
        "clf.fit(X_tr, y_tr)"
      ],
      "execution_count": null,
      "outputs": [
        {
          "output_type": "execute_result",
          "data": {
            "text/plain": [
              "SVC(C=1.0, break_ties=False, cache_size=200, class_weight=None, coef0=0.0,\n",
              "    decision_function_shape='ovr', degree=3, gamma='scale', kernel='linear',\n",
              "    max_iter=-1, probability=False, random_state=None, shrinking=True,\n",
              "    tol=0.001, verbose=False)"
            ]
          },
          "metadata": {
            "tags": []
          },
          "execution_count": 144
        }
      ]
    },
    {
      "cell_type": "code",
      "metadata": {
        "id": "T9sRggqIrPbY"
      },
      "source": [
        "y_pred=clf.predict(X_test)\n",
        "# for i in range(X_te.shape[0]):\n",
        "#     pre=clf.predict(X_te[i].reshape(1,-1))\n",
        "#     y_pred.append(pre[0])\n",
        "# y_pred=np.array(y_pred)"
      ],
      "execution_count": null,
      "outputs": []
    },
    {
      "cell_type": "code",
      "metadata": {
        "colab": {
          "base_uri": "https://localhost:8080/"
        },
        "id": "cZo_mFk4pBH_",
        "outputId": "dffe23b9-1f9d-4844-ba0d-a44a0d65d723"
      },
      "source": [
        "print(\"accuracy on test dataset: {}\".format(accuracy_score(y_test, y_pred)))\n",
        "print(\"recall on test dataset: {}\".format(recall_score(y_test, y_pred)))\n",
        "print(\"precision on test dataset: {}\".format(recall_score(y_test, y_pred)))"
      ],
      "execution_count": null,
      "outputs": [
        {
          "output_type": "stream",
          "text": [
            "accuracy on test dataset: 0.73\n",
            "recall on test dataset: 0.7926829268292683\n",
            "precision on test dataset: 0.7926829268292683\n"
          ],
          "name": "stdout"
        }
      ]
    }
  ]
}