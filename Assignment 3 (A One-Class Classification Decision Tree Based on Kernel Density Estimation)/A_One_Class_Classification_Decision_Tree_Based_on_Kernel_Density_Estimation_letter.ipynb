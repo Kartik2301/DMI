{
  "nbformat": 4,
  "nbformat_minor": 0,
  "metadata": {
    "colab": {
      "name": "A One-Class Classification Decision Tree Based on Kernel Density Estimation_letter.ipynb",
      "provenance": []
    },
    "kernelspec": {
      "name": "python3",
      "display_name": "Python 3"
    },
    "language_info": {
      "name": "python"
    }
  },
  "cells": [
    {
      "cell_type": "code",
      "metadata": {
        "id": "fkGuIVgmP_uy"
      },
      "source": [
        "from sklearn.neighbors import KernelDensity\n",
        "import pandas as pd\n",
        "import numpy as np\n",
        "from sklearn.ensemble import IsolationForest"
      ],
      "execution_count": 17,
      "outputs": []
    },
    {
      "cell_type": "code",
      "metadata": {
        "id": "bHw1PNVOQQql"
      },
      "source": [
        "def label_df(label):\n",
        "  labels = np.array(tr_df['letter'].unique())\n",
        "  df = []\n",
        "  for l in labels:\n",
        "    if(l==label):\n",
        "      df.append(tr_df[tr_df['letter']==l])\n",
        "    else:\n",
        "      df.append(tr_df[tr_df['letter']==l].sample(frac=0.04))\n",
        "  return pd.concat(df)"
      ],
      "execution_count": 18,
      "outputs": []
    },
    {
      "cell_type": "code",
      "metadata": {
        "id": "l1WoS-7qQHR3"
      },
      "source": [
        "df = pd.read_csv(\"/content/sample_data/letter-recognition.csv\")\n",
        "tr_df = df.sample(frac=0.8)\n",
        "te_df = df.drop(tr_df.index)"
      ],
      "execution_count": 19,
      "outputs": []
    },
    {
      "cell_type": "code",
      "metadata": {
        "id": "hFdqq6cQQhPA"
      },
      "source": [
        "OCtree_for_label = {}\n",
        "int_to_letter = {}\n",
        "for i,l in enumerate(np.array(tr_df['letter'].unique())):\n",
        "  int_to_letter[i]=l\n",
        "  df_label = label_df(l)\n",
        "  clf = IsolationForest().fit(df_label.drop('letter',axis=1))\n",
        "  OCtree_for_label[l]=clf"
      ],
      "execution_count": 20,
      "outputs": []
    },
    {
      "cell_type": "code",
      "metadata": {
        "id": "chVn7ODXQtx0"
      },
      "source": [
        "predictions = []\n",
        "for let in OCtree_for_label:\n",
        "  predictions.append(OCtree_for_label[let].decision_function(te_df.drop('letter',axis=1)))"
      ],
      "execution_count": 21,
      "outputs": []
    },
    {
      "cell_type": "code",
      "metadata": {
        "colab": {
          "base_uri": "https://localhost:8080/"
        },
        "id": "aKrDHWCtQxHq",
        "outputId": "2ab56cc6-44d1-4321-83ce-23cd552437cb"
      },
      "source": [
        "np.array(predictions[0][6])"
      ],
      "execution_count": 22,
      "outputs": [
        {
          "output_type": "execute_result",
          "data": {
            "text/plain": [
              "array(0.00856162)"
            ]
          },
          "metadata": {
            "tags": []
          },
          "execution_count": 22
        }
      ]
    },
    {
      "cell_type": "code",
      "metadata": {
        "id": "rIsQ6uFQQ1Wy"
      },
      "source": [
        "predictions = np.array(predictions).T"
      ],
      "execution_count": 23,
      "outputs": []
    },
    {
      "cell_type": "code",
      "metadata": {
        "id": "pKyo6FLOQ6e8"
      },
      "source": [
        "ans = []\n",
        "for i,pred in enumerate(predictions):\n",
        "  ans.append(int_to_letter[pred.argmax()])"
      ],
      "execution_count": 24,
      "outputs": []
    },
    {
      "cell_type": "code",
      "metadata": {
        "colab": {
          "base_uri": "https://localhost:8080/"
        },
        "id": "pmhC60x5RFON",
        "outputId": "711f6e81-d490-4f97-f79b-45269ebad6f6"
      },
      "source": [
        "from sklearn.metrics import classification_report\n",
        "print(classification_report(te_df['letter'], ans))"
      ],
      "execution_count": 25,
      "outputs": [
        {
          "output_type": "stream",
          "text": [
            "              precision    recall  f1-score   support\n",
            "\n",
            "           A       0.77      0.85      0.81       150\n",
            "           B       0.50      0.57      0.53       142\n",
            "           C       0.77      0.64      0.70       140\n",
            "           D       0.43      0.69      0.53       174\n",
            "           E       0.73      0.39      0.51       168\n",
            "           F       0.70      0.77      0.73       164\n",
            "           G       0.66      0.51      0.58       163\n",
            "           H       0.93      0.31      0.46       140\n",
            "           I       0.71      0.68      0.70       156\n",
            "           J       0.71      0.79      0.75       153\n",
            "           K       0.64      0.48      0.55       155\n",
            "           L       1.00      0.67      0.80       136\n",
            "           M       0.42      0.90      0.58       171\n",
            "           N       0.88      0.48      0.62       155\n",
            "           O       0.75      0.53      0.62       146\n",
            "           P       0.87      0.75      0.80       163\n",
            "           Q       0.36      0.68      0.47       163\n",
            "           R       0.75      0.59      0.66       140\n",
            "           S       0.56      0.42      0.48       157\n",
            "           T       0.89      0.66      0.76       160\n",
            "           U       0.95      0.70      0.81       172\n",
            "           V       0.84      0.73      0.78       158\n",
            "           W       0.58      0.92      0.71       133\n",
            "           X       0.45      0.26      0.33       155\n",
            "           Y       0.84      0.58      0.69       148\n",
            "           Z       0.35      0.77      0.48       138\n",
            "\n",
            "    accuracy                           0.63      4000\n",
            "   macro avg       0.69      0.63      0.63      4000\n",
            "weighted avg       0.69      0.63      0.63      4000\n",
            "\n"
          ],
          "name": "stdout"
        }
      ]
    }
  ]
}