{
  "nbformat": 4,
  "nbformat_minor": 0,
  "metadata": {
    "colab": {
      "name": "Paper_1M_Original.ipynb",
      "provenance": [],
      "collapsed_sections": []
    },
    "kernelspec": {
      "display_name": "Python 3",
      "name": "python3"
    }
  },
  "cells": [
    {
      "cell_type": "code",
      "metadata": {
        "id": "95baY23syvYB"
      },
      "source": [
        "import numpy as np\n",
        "import pandas as pd\n",
        "import statsmodels.api as sm\n",
        "from sklearn.preprocessing import MinMaxScaler\n",
        "from sklearn.model_selection import train_test_split as tts\n",
        "from sklearn.metrics import accuracy_score, recall_score, precision_score\n",
        "from sklearn.utils import shuffle"
      ],
      "execution_count": 91,
      "outputs": []
    },
    {
      "cell_type": "code",
      "metadata": {
        "colab": {
          "base_uri": "https://localhost:8080/",
          "height": 424
        },
        "id": "GYNgejckeCxk",
        "outputId": "29b57776-f462-4f4e-bfdd-823bf90cb284"
      },
      "source": [
        "df=pd.read_csv('/content/sample_data/letter-recognition.csv')\n",
        "diag_map = {'A': 1.0, 'B': -1.0,'C': 1.0, 'D': -1.0,'E': 1.0, 'F': -1.0,'G': 1.0, 'H': -1.0,'I': 1.0, 'J': -1.0,'K': 1.0, 'L': -1.0,'M': 1.0, 'N': -1.0\n",
        "            ,'O': 1.0, 'P': -1.0,'Q': 1.0, 'R': -1.0,'S': 1.0, 'T': -1.0,'U': 1.0, 'V': -1.0,'W': 1.0, 'X': -1.0,\n",
        "            'Y': 1.0, 'Z': -1.0}\n",
        "df['letter'] = df['letter'].map(diag_map)\n",
        "df\n"
      ],
      "execution_count": 92,
      "outputs": [
        {
          "output_type": "execute_result",
          "data": {
            "text/html": [
              "<div>\n",
              "<style scoped>\n",
              "    .dataframe tbody tr th:only-of-type {\n",
              "        vertical-align: middle;\n",
              "    }\n",
              "\n",
              "    .dataframe tbody tr th {\n",
              "        vertical-align: top;\n",
              "    }\n",
              "\n",
              "    .dataframe thead th {\n",
              "        text-align: right;\n",
              "    }\n",
              "</style>\n",
              "<table border=\"1\" class=\"dataframe\">\n",
              "  <thead>\n",
              "    <tr style=\"text-align: right;\">\n",
              "      <th></th>\n",
              "      <th>letter</th>\n",
              "      <th>xbox</th>\n",
              "      <th>ybox</th>\n",
              "      <th>width</th>\n",
              "      <th>height</th>\n",
              "      <th>onpix</th>\n",
              "      <th>xbar</th>\n",
              "      <th>ybar</th>\n",
              "      <th>x2bar</th>\n",
              "      <th>y2bar</th>\n",
              "      <th>xybar</th>\n",
              "      <th>x2ybar</th>\n",
              "      <th>xy2bar</th>\n",
              "      <th>xedge</th>\n",
              "      <th>xedgey</th>\n",
              "      <th>yedge</th>\n",
              "      <th>yedgex</th>\n",
              "    </tr>\n",
              "  </thead>\n",
              "  <tbody>\n",
              "    <tr>\n",
              "      <th>0</th>\n",
              "      <td>-1.0</td>\n",
              "      <td>2</td>\n",
              "      <td>8</td>\n",
              "      <td>3</td>\n",
              "      <td>5</td>\n",
              "      <td>1</td>\n",
              "      <td>8</td>\n",
              "      <td>13</td>\n",
              "      <td>0</td>\n",
              "      <td>6</td>\n",
              "      <td>6</td>\n",
              "      <td>10</td>\n",
              "      <td>8</td>\n",
              "      <td>0</td>\n",
              "      <td>8</td>\n",
              "      <td>0</td>\n",
              "      <td>8</td>\n",
              "    </tr>\n",
              "    <tr>\n",
              "      <th>1</th>\n",
              "      <td>1.0</td>\n",
              "      <td>5</td>\n",
              "      <td>12</td>\n",
              "      <td>3</td>\n",
              "      <td>7</td>\n",
              "      <td>2</td>\n",
              "      <td>10</td>\n",
              "      <td>5</td>\n",
              "      <td>5</td>\n",
              "      <td>4</td>\n",
              "      <td>13</td>\n",
              "      <td>3</td>\n",
              "      <td>9</td>\n",
              "      <td>2</td>\n",
              "      <td>8</td>\n",
              "      <td>4</td>\n",
              "      <td>10</td>\n",
              "    </tr>\n",
              "    <tr>\n",
              "      <th>2</th>\n",
              "      <td>-1.0</td>\n",
              "      <td>4</td>\n",
              "      <td>11</td>\n",
              "      <td>6</td>\n",
              "      <td>8</td>\n",
              "      <td>6</td>\n",
              "      <td>10</td>\n",
              "      <td>6</td>\n",
              "      <td>2</td>\n",
              "      <td>6</td>\n",
              "      <td>10</td>\n",
              "      <td>3</td>\n",
              "      <td>7</td>\n",
              "      <td>3</td>\n",
              "      <td>7</td>\n",
              "      <td>3</td>\n",
              "      <td>9</td>\n",
              "    </tr>\n",
              "    <tr>\n",
              "      <th>3</th>\n",
              "      <td>-1.0</td>\n",
              "      <td>7</td>\n",
              "      <td>11</td>\n",
              "      <td>6</td>\n",
              "      <td>6</td>\n",
              "      <td>3</td>\n",
              "      <td>5</td>\n",
              "      <td>9</td>\n",
              "      <td>4</td>\n",
              "      <td>6</td>\n",
              "      <td>4</td>\n",
              "      <td>4</td>\n",
              "      <td>10</td>\n",
              "      <td>6</td>\n",
              "      <td>10</td>\n",
              "      <td>2</td>\n",
              "      <td>8</td>\n",
              "    </tr>\n",
              "    <tr>\n",
              "      <th>4</th>\n",
              "      <td>1.0</td>\n",
              "      <td>2</td>\n",
              "      <td>1</td>\n",
              "      <td>3</td>\n",
              "      <td>1</td>\n",
              "      <td>1</td>\n",
              "      <td>8</td>\n",
              "      <td>6</td>\n",
              "      <td>6</td>\n",
              "      <td>6</td>\n",
              "      <td>6</td>\n",
              "      <td>5</td>\n",
              "      <td>9</td>\n",
              "      <td>1</td>\n",
              "      <td>7</td>\n",
              "      <td>5</td>\n",
              "      <td>10</td>\n",
              "    </tr>\n",
              "    <tr>\n",
              "      <th>...</th>\n",
              "      <td>...</td>\n",
              "      <td>...</td>\n",
              "      <td>...</td>\n",
              "      <td>...</td>\n",
              "      <td>...</td>\n",
              "      <td>...</td>\n",
              "      <td>...</td>\n",
              "      <td>...</td>\n",
              "      <td>...</td>\n",
              "      <td>...</td>\n",
              "      <td>...</td>\n",
              "      <td>...</td>\n",
              "      <td>...</td>\n",
              "      <td>...</td>\n",
              "      <td>...</td>\n",
              "      <td>...</td>\n",
              "      <td>...</td>\n",
              "    </tr>\n",
              "    <tr>\n",
              "      <th>19995</th>\n",
              "      <td>-1.0</td>\n",
              "      <td>2</td>\n",
              "      <td>2</td>\n",
              "      <td>3</td>\n",
              "      <td>3</td>\n",
              "      <td>2</td>\n",
              "      <td>7</td>\n",
              "      <td>7</td>\n",
              "      <td>7</td>\n",
              "      <td>6</td>\n",
              "      <td>6</td>\n",
              "      <td>6</td>\n",
              "      <td>4</td>\n",
              "      <td>2</td>\n",
              "      <td>8</td>\n",
              "      <td>3</td>\n",
              "      <td>7</td>\n",
              "    </tr>\n",
              "    <tr>\n",
              "      <th>19996</th>\n",
              "      <td>1.0</td>\n",
              "      <td>7</td>\n",
              "      <td>10</td>\n",
              "      <td>8</td>\n",
              "      <td>8</td>\n",
              "      <td>4</td>\n",
              "      <td>4</td>\n",
              "      <td>8</td>\n",
              "      <td>6</td>\n",
              "      <td>9</td>\n",
              "      <td>12</td>\n",
              "      <td>9</td>\n",
              "      <td>13</td>\n",
              "      <td>2</td>\n",
              "      <td>9</td>\n",
              "      <td>3</td>\n",
              "      <td>7</td>\n",
              "    </tr>\n",
              "    <tr>\n",
              "      <th>19997</th>\n",
              "      <td>-1.0</td>\n",
              "      <td>6</td>\n",
              "      <td>9</td>\n",
              "      <td>6</td>\n",
              "      <td>7</td>\n",
              "      <td>5</td>\n",
              "      <td>6</td>\n",
              "      <td>11</td>\n",
              "      <td>3</td>\n",
              "      <td>7</td>\n",
              "      <td>11</td>\n",
              "      <td>9</td>\n",
              "      <td>5</td>\n",
              "      <td>2</td>\n",
              "      <td>12</td>\n",
              "      <td>2</td>\n",
              "      <td>4</td>\n",
              "    </tr>\n",
              "    <tr>\n",
              "      <th>19998</th>\n",
              "      <td>1.0</td>\n",
              "      <td>2</td>\n",
              "      <td>3</td>\n",
              "      <td>4</td>\n",
              "      <td>2</td>\n",
              "      <td>1</td>\n",
              "      <td>8</td>\n",
              "      <td>7</td>\n",
              "      <td>2</td>\n",
              "      <td>6</td>\n",
              "      <td>10</td>\n",
              "      <td>6</td>\n",
              "      <td>8</td>\n",
              "      <td>1</td>\n",
              "      <td>9</td>\n",
              "      <td>5</td>\n",
              "      <td>8</td>\n",
              "    </tr>\n",
              "    <tr>\n",
              "      <th>19999</th>\n",
              "      <td>1.0</td>\n",
              "      <td>4</td>\n",
              "      <td>9</td>\n",
              "      <td>6</td>\n",
              "      <td>6</td>\n",
              "      <td>2</td>\n",
              "      <td>9</td>\n",
              "      <td>5</td>\n",
              "      <td>3</td>\n",
              "      <td>1</td>\n",
              "      <td>8</td>\n",
              "      <td>1</td>\n",
              "      <td>8</td>\n",
              "      <td>2</td>\n",
              "      <td>7</td>\n",
              "      <td>2</td>\n",
              "      <td>8</td>\n",
              "    </tr>\n",
              "  </tbody>\n",
              "</table>\n",
              "<p>20000 rows × 17 columns</p>\n",
              "</div>"
            ],
            "text/plain": [
              "       letter  xbox   ybox   width   ...  xedge   xedgey  yedge   yedgex\n",
              "0        -1.0      2      8       3  ...       0       8       0       8\n",
              "1         1.0      5     12       3  ...       2       8       4      10\n",
              "2        -1.0      4     11       6  ...       3       7       3       9\n",
              "3        -1.0      7     11       6  ...       6      10       2       8\n",
              "4         1.0      2      1       3  ...       1       7       5      10\n",
              "...       ...    ...    ...     ...  ...     ...     ...     ...     ...\n",
              "19995    -1.0      2      2       3  ...       2       8       3       7\n",
              "19996     1.0      7     10       8  ...       2       9       3       7\n",
              "19997    -1.0      6      9       6  ...       2      12       2       4\n",
              "19998     1.0      2      3       4  ...       1       9       5       8\n",
              "19999     1.0      4      9       6  ...       2       7       2       8\n",
              "\n",
              "[20000 rows x 17 columns]"
            ]
          },
          "metadata": {
            "tags": []
          },
          "execution_count": 92
        }
      ]
    },
    {
      "cell_type": "code",
      "metadata": {
        "colab": {
          "base_uri": "https://localhost:8080/"
        },
        "id": "pT4w_9bZfucZ",
        "outputId": "091aa11e-727b-4ac0-d9f2-c77013616f58"
      },
      "source": [
        "X=df.drop('letter',axis=1)\n",
        "y=df['letter']\n",
        "m=8000\n",
        "X=X[:m]\n",
        "y=y[:m]\n",
        "print(X.shape)"
      ],
      "execution_count": 93,
      "outputs": [
        {
          "output_type": "stream",
          "text": [
            "(8000, 16)\n"
          ],
          "name": "stdout"
        }
      ]
    },
    {
      "cell_type": "code",
      "metadata": {
        "id": "r0CNzO-50rXp"
      },
      "source": [
        "df1=df\n",
        "df1=df1.sample(frac=1)\n",
        "X1=df1.drop('letter',axis=1)[:m]\n",
        "y1=df1['letter'][:m]"
      ],
      "execution_count": 94,
      "outputs": []
    },
    {
      "cell_type": "code",
      "metadata": {
        "id": "6qMvKnPECa7G"
      },
      "source": [
        "tr_si=int(0.8*m)\n",
        "X_train=X1[:tr_si]\n",
        "y_train=y1[:tr_si]\n",
        "X_test=X1[tr_si:]\n",
        "y_test=y1[tr_si:]"
      ],
      "execution_count": 95,
      "outputs": []
    },
    {
      "cell_type": "code",
      "metadata": {
        "colab": {
          "base_uri": "https://localhost:8080/"
        },
        "id": "jFxsSgPZZjv6",
        "outputId": "ce892448-4626-43de-ed34-0f14eb23db22"
      },
      "source": [
        "print(X_train.shape,X_test.shape)"
      ],
      "execution_count": 96,
      "outputs": [
        {
          "output_type": "stream",
          "text": [
            "(6400, 16) (1600, 16)\n"
          ],
          "name": "stdout"
        }
      ]
    },
    {
      "cell_type": "code",
      "metadata": {
        "colab": {
          "base_uri": "https://localhost:8080/"
        },
        "id": "ycKlxX69HKqG",
        "outputId": "e3e011f2-bc4c-473f-c64a-380b84d93e3b"
      },
      "source": [
        "from sklearn import svm\n",
        "clf = svm.SVC(kernel='linear')\n",
        "clf.fit(X_train, y_train)"
      ],
      "execution_count": 97,
      "outputs": [
        {
          "output_type": "execute_result",
          "data": {
            "text/plain": [
              "SVC(C=1.0, break_ties=False, cache_size=200, class_weight=None, coef0=0.0,\n",
              "    decision_function_shape='ovr', degree=3, gamma='scale', kernel='linear',\n",
              "    max_iter=-1, probability=False, random_state=None, shrinking=True,\n",
              "    tol=0.001, verbose=False)"
            ]
          },
          "metadata": {
            "tags": []
          },
          "execution_count": 97
        }
      ]
    },
    {
      "cell_type": "code",
      "metadata": {
        "id": "V2WvysecHaXg"
      },
      "source": [
        "y_pred=clf.predict(X_test)"
      ],
      "execution_count": 98,
      "outputs": []
    },
    {
      "cell_type": "markdown",
      "metadata": {
        "id": "__OAphcZH3kv"
      },
      "source": [
        "**RESULTS SVM WITHOUT MARKOV SAMPLING**"
      ]
    },
    {
      "cell_type": "code",
      "metadata": {
        "colab": {
          "base_uri": "https://localhost:8080/"
        },
        "id": "2g8Xjvb8HUdD",
        "outputId": "96eec6e7-fb14-4c9f-df7e-45554040d1ea"
      },
      "source": [
        "print(\"accuracy on test dataset: {}\".format(accuracy_score(y_test, y_pred)))\n",
        "print(\"recall on test dataset: {}\".format(recall_score(y_test, y_pred)))\n",
        "print(\"precision on test dataset: {}\".format(recall_score(y_test, y_pred)))"
      ],
      "execution_count": 99,
      "outputs": [
        {
          "output_type": "stream",
          "text": [
            "accuracy on test dataset: 0.7275\n",
            "recall on test dataset: 0.7836477987421384\n",
            "precision on test dataset: 0.7836477987421384\n"
          ],
          "name": "stdout"
        }
      ]
    },
    {
      "cell_type": "code",
      "metadata": {
        "colab": {
          "base_uri": "https://localhost:8080/"
        },
        "id": "q9D6_m7H1eVp",
        "outputId": "fa6299a1-ba7b-491c-e6e5-7f5581011742"
      },
      "source": [
        "N1=1000\n",
        "X_val=X[:N1]\n",
        "y_val=y[:N1]\n",
        "print(y_val.shape)"
      ],
      "execution_count": 100,
      "outputs": [
        {
          "output_type": "stream",
          "text": [
            "(1000,)\n"
          ],
          "name": "stdout"
        }
      ]
    },
    {
      "cell_type": "code",
      "metadata": {
        "colab": {
          "base_uri": "https://localhost:8080/"
        },
        "id": "keuMDpsrfoFm",
        "outputId": "dfd62cab-11e4-4de5-8640-fea17302d8e2"
      },
      "source": [
        "from sklearn import svm\n",
        "clf = svm.SVC(kernel='linear')\n",
        "clf.fit(X_val, y_val)"
      ],
      "execution_count": 101,
      "outputs": [
        {
          "output_type": "execute_result",
          "data": {
            "text/plain": [
              "SVC(C=1.0, break_ties=False, cache_size=200, class_weight=None, coef0=0.0,\n",
              "    decision_function_shape='ovr', degree=3, gamma='scale', kernel='linear',\n",
              "    max_iter=-1, probability=False, random_state=None, shrinking=True,\n",
              "    tol=0.001, verbose=False)"
            ]
          },
          "metadata": {
            "tags": []
          },
          "execution_count": 101
        }
      ]
    },
    {
      "cell_type": "code",
      "metadata": {
        "colab": {
          "base_uri": "https://localhost:8080/"
        },
        "id": "Od8VL4kigVg-",
        "outputId": "a0ba4790-08c1-4874-cb71-c8530f2ae12c"
      },
      "source": [
        "y_pre=clf.predict(X_test)\n",
        "print(y_pre)"
      ],
      "execution_count": 102,
      "outputs": [
        {
          "output_type": "stream",
          "text": [
            "[-1. -1. -1. ... -1. -1.  1.]\n"
          ],
          "name": "stdout"
        }
      ]
    },
    {
      "cell_type": "code",
      "metadata": {
        "id": "npAcBLvo-iXj"
      },
      "source": [
        "def Cost(Y_pred, Y):\n",
        "    # calculate hinge loss\n",
        "    if Y_pred*Y>1.0:\n",
        "        return 0\n",
        "    return 1.0-Y_pred*Y"
      ],
      "execution_count": 103,
      "outputs": []
    },
    {
      "cell_type": "code",
      "metadata": {
        "id": "deTUUYVxfAp5"
      },
      "source": [
        "X=X.to_numpy()\n",
        "y=y.to_numpy()"
      ],
      "execution_count": 104,
      "outputs": []
    },
    {
      "cell_type": "code",
      "metadata": {
        "colab": {
          "base_uri": "https://localhost:8080/"
        },
        "id": "FGYWHWiCge8P",
        "outputId": "626dfeaf-234c-45cc-be04-051baba6d0b4"
      },
      "source": [
        "Ni=0\n",
        "j=0\n",
        "k=2\n",
        "q=1/1.2\n",
        "print(q)\n",
        "m=y.shape[0]\n",
        "print(m)"
      ],
      "execution_count": 105,
      "outputs": [
        {
          "output_type": "stream",
          "text": [
            "0.8333333333333334\n",
            "8000\n"
          ],
          "name": "stdout"
        }
      ]
    },
    {
      "cell_type": "code",
      "metadata": {
        "colab": {
          "base_uri": "https://localhost:8080/"
        },
        "id": "JPGxt0x_gvMO",
        "outputId": "c0fac072-48ec-4b96-9a90-0f94675b57f8"
      },
      "source": [
        "import math\n",
        "mp=0\n",
        "mn=0\n",
        "ct=0\n",
        "X_tr=[]\n",
        "y_tr=[]\n",
        "X_te=[]\n",
        "y_te=[]\n",
        "X_t=X[0].reshape(1,-1)\n",
        "print(X_t)\n",
        "y_t=y[0].reshape(1,-1)[0]\n",
        "X_tr.append(X_t[0])\n",
        "y_tr.append(y_t[0])\n",
        "if m%2==0 and y_t[0]==1.0:\n",
        "    mp+=1\n",
        "elif m%2==0 and y_t[0]==-1.0:\n",
        "    mn+=1\n",
        "pred_t=clf.predict(X_t)\n",
        "print(pred_t)\n",
        "p=1999999.0\n",
        "for i in range(1,m):\n",
        "    X_z=X[i].reshape(1,-1)\n",
        "    y_z=y[i].reshape(1,-1)[0]\n",
        "    pred_z=clf.predict(X_z)\n",
        "    P=math.exp(-Cost(pred_z[0],y_z[0]))/math.exp(-Cost(pred_t[0],y_t[0]))\n",
        "    if ct>=k:\n",
        "        Pdd=q*P\n",
        "        if Pdd>0.5:\n",
        "            X_tr.append(X_z[0])\n",
        "            y_tr.append(y_z[0])\n",
        "            ct+=1 \n",
        "            X_t=X_z\n",
        "            y_t=y_z\n",
        "            pred_t=pred_z\n",
        "            Ni+=1\n",
        "        else:\n",
        "            X_te.append(X_z[0])\n",
        "            y_te.append(y_z[0])\n",
        "            ct=0\n",
        "    elif P==1.0 and y_z==y_t:\n",
        "        Pd=math.exp(-y_z[0]*pred_z[0])/math.exp(-y_t[0]*pred_t[0])\n",
        "        if Pd>0.5:\n",
        "            X_tr.append(X_z[0])\n",
        "            y_tr.append(y_z[0])\n",
        "            ct+=1\n",
        "            X_t=X_z\n",
        "            y_t=y_z\n",
        "            pred_t=pred_z\n",
        "            Ni+=1\n",
        "        else:\n",
        "            X_te.append(X_z[0])\n",
        "            y_te.append(y_z[0])\n",
        "            ct=0\n",
        "    elif P==1.0 and y_z[0]*y_t[0]==-1.0 or P<1.0:\n",
        "        Pd=math.exp(-y_z[0]*pred_z[0])/math.exp(-y_t[0]*pred_t[0])\n",
        "        if Pd>0.5:\n",
        "            X_tr.append(X_z[0])\n",
        "            y_tr.append(y_z[0])\n",
        "            ct+=1\n",
        "            X_t=X_z\n",
        "            y_t=y_z\n",
        "            pred_t=pred_z\n",
        "            Ni+=1\n",
        "        else:\n",
        "            X_te.append(X_z[0])\n",
        "            y_te.append(y_z[0])\n",
        "            ct=0\n",
        "    elif P>1.0:\n",
        "        X_tr.append(X_z[0])\n",
        "        y_tr.append(y_z[0])\n",
        "        ct+=1\n",
        "        X_t=X_z\n",
        "        y_t=y_z\n",
        "        pred_t=pred_z\n",
        "        Ni+=1\n",
        "    if Ni>=N1:\n",
        "        clf.fit(np.array(X_tr),np.array(y_tr))\n",
        "        j+=1\n",
        "    if j>=k:\n",
        "        break"
      ],
      "execution_count": 106,
      "outputs": [
        {
          "output_type": "stream",
          "text": [
            "[[ 2  8  3  5  1  8 13  0  6  6 10  8  0  8  0  8]]\n",
            "[-1.]\n"
          ],
          "name": "stdout"
        }
      ]
    },
    {
      "cell_type": "code",
      "metadata": {
        "id": "uX36HeQDnfy7"
      },
      "source": [
        "X_tr=np.array(X_tr)\n",
        "y_tr=np.array(y_tr)\n",
        "X_te=np.array(X_te)\n",
        "y_te=np.array(y_te)"
      ],
      "execution_count": 107,
      "outputs": []
    },
    {
      "cell_type": "code",
      "metadata": {
        "colab": {
          "base_uri": "https://localhost:8080/"
        },
        "id": "BVon038X00bl",
        "outputId": "ebd8bcef-4769-40ad-e813-771d0ab5a38f"
      },
      "source": [
        "print(X_tr.shape[0],y_te.shape[0])"
      ],
      "execution_count": 108,
      "outputs": [
        {
          "output_type": "stream",
          "text": [
            "1002 207\n"
          ],
          "name": "stdout"
        }
      ]
    },
    {
      "cell_type": "code",
      "metadata": {
        "colab": {
          "base_uri": "https://localhost:8080/"
        },
        "id": "HWBP-lKIoyQF",
        "outputId": "b24ca286-60b9-49b9-a1c3-0a9bc88e7a2d"
      },
      "source": [
        "clf = svm.SVC(kernel='linear')\n",
        "clf.fit(X_tr, y_tr)"
      ],
      "execution_count": 109,
      "outputs": [
        {
          "output_type": "execute_result",
          "data": {
            "text/plain": [
              "SVC(C=1.0, break_ties=False, cache_size=200, class_weight=None, coef0=0.0,\n",
              "    decision_function_shape='ovr', degree=3, gamma='scale', kernel='linear',\n",
              "    max_iter=-1, probability=False, random_state=None, shrinking=True,\n",
              "    tol=0.001, verbose=False)"
            ]
          },
          "metadata": {
            "tags": []
          },
          "execution_count": 109
        }
      ]
    },
    {
      "cell_type": "code",
      "metadata": {
        "id": "T9sRggqIrPbY"
      },
      "source": [
        "y_pred=clf.predict(X_test)\n",
        "# for i in range(X_te.shape[0]):\n",
        "#     pre=clf.predict(X_te[i].reshape(1,-1))\n",
        "#     y_pred.append(pre[0])\n",
        "# y_pred=np.array(y_pred)"
      ],
      "execution_count": 110,
      "outputs": []
    },
    {
      "cell_type": "code",
      "metadata": {
        "colab": {
          "base_uri": "https://localhost:8080/"
        },
        "id": "cZo_mFk4pBH_",
        "outputId": "d280a011-d992-4924-e2c1-d42912219a82"
      },
      "source": [
        "print(\"accuracy on test dataset: {}\".format(accuracy_score(y_test, y_pred)))\n",
        "print(\"recall on test dataset: {}\".format(recall_score(y_test, y_pred)))\n",
        "print(\"precision on test dataset: {}\".format(recall_score(y_test, y_pred)))"
      ],
      "execution_count": 111,
      "outputs": [
        {
          "output_type": "stream",
          "text": [
            "accuracy on test dataset: 0.7325\n",
            "recall on test dataset: 0.7421383647798742\n",
            "precision on test dataset: 0.7421383647798742\n"
          ],
          "name": "stdout"
        }
      ]
    }
  ]
}